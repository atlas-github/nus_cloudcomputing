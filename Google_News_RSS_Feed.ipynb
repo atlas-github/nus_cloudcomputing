{
  "nbformat": 4,
  "nbformat_minor": 0,
  "metadata": {
    "colab": {
      "provenance": [],
      "authorship_tag": "ABX9TyOC8bqOxt5N1pcSU78T1oXb",
      "include_colab_link": true
    },
    "kernelspec": {
      "name": "python3",
      "display_name": "Python 3"
    },
    "language_info": {
      "name": "python"
    }
  },
  "cells": [
    {
      "cell_type": "markdown",
      "metadata": {
        "id": "view-in-github",
        "colab_type": "text"
      },
      "source": [
        "<a href=\"https://colab.research.google.com/github/atlas-github/nus_cloudcomputing/blob/main/Google_News_RSS_Feed.ipynb\" target=\"_parent\"><img src=\"https://colab.research.google.com/assets/colab-badge.svg\" alt=\"Open In Colab\"/></a>"
      ]
    },
    {
      "cell_type": "code",
      "source": [
        "# Install libraries\n",
        "!pip install feedparser pandas google-cloud-bigquery"
      ],
      "metadata": {
        "id": "034DQEOk68fh"
      },
      "execution_count": null,
      "outputs": []
    },
    {
      "cell_type": "code",
      "execution_count": null,
      "metadata": {
        "id": "V6y7Yi8Nm1Ip"
      },
      "outputs": [],
      "source": [
        "import feedparser\n",
        "import pandas as pd\n",
        "from google.cloud import bigquery\n",
        "from google.oauth2 import service_account\n",
        "import smtplib\n",
        "from email.mime.multipart import MIMEMultipart\n",
        "from email.mime.text import MIMEText\n",
        "\n",
        "# RSS feed URL\n",
        "rss_url = \"https://news.google.com/rss/topics/CAAqJggKIiBDQkFTRWdvSUwyMHZNRGx1YlY4U0FtVnVHZ0pWVXlnQVAB?hl=en-US&gl=US&ceid=US:en\"\n",
        "\n",
        "# BigQuery setup\n",
        "project_id = \"### INSERT PROJECT ID ###\"\n",
        "dataset_id = \"### INSERT DATASET ID ###\"\n",
        "table_id = \"### INSERT TABLE ID ###\"\n",
        "credentials = service_account.Credentials.from_service_account_file(\"### INSERT CREDENTIAL FILE NAME ###\")\n",
        "client = bigquery.Client(credentials=credentials, project=project_id)\n",
        "\n",
        "# Email setup\n",
        "smtp_server = \"smtp.gmail.com\"\n",
        "smtp_port = 587\n",
        "email_sender = \"### INSERT SENDER EMAIL ###\"\n",
        "email_password = \"### INSERT APP PASSWORD ###\"\n",
        "email_recipient = \"### INSERT RECIPIENT EMAIL ###\"\n",
        "\n",
        "# Parse the RSS feed\n",
        "feed = feedparser.parse(rss_url)\n",
        "entries = []\n",
        "for entry in feed.entries:\n",
        "    entries.append({\n",
        "        \"Title\": entry.title,\n",
        "        \"Link\": entry.link,\n",
        "        \"Published\": entry.published,\n",
        "        \"Summary\": entry.summary if \"summary\" in entry else \"\"\n",
        "    })\n",
        "\n",
        "# Create a DataFrame\n",
        "df = pd.DataFrame(entries)\n",
        "\n",
        "# Load the existing data from BigQuery (if any)\n",
        "query = f\"SELECT * FROM `{project_id}.{dataset_id}.{table_id}`\"\n",
        "try:\n",
        "    existing_data = client.query(query).to_dataframe()\n",
        "except Exception as e:\n",
        "    existing_data = pd.DataFrame(columns=[\"Title\", \"Link\", \"Published\", \"Summary\"])\n",
        "\n",
        "# Find new rows\n",
        "new_rows = df[~df[\"Link\"].isin(existing_data[\"Link\"])]\n",
        "\n",
        "# Insert new rows into BigQuery\n",
        "if not new_rows.empty:\n",
        "    job = client.load_table_from_dataframe(new_rows, f\"{project_id}.{dataset_id}.{table_id}\")\n",
        "    job.result()  # Wait for the job to complete\n",
        "\n",
        "    # Send email notification for new rows\n",
        "    html_table = new_rows.to_html(index=False, escape=False)\n",
        "    email_subject = \"New RSS Feed Entries\"\n",
        "    email_body = f\"\"\"\n",
        "    <html>\n",
        "    <body>\n",
        "        <p>New entries have been added to the RSS feed:</p>\n",
        "        {html_table}\n",
        "    </body>\n",
        "    </html>\n",
        "    \"\"\"\n",
        "\n",
        "    # Create the email message\n",
        "    message = MIMEMultipart()\n",
        "    message[\"From\"] = email_sender\n",
        "    message[\"To\"] = email_recipient\n",
        "    message[\"Subject\"] = email_subject\n",
        "    message.attach(MIMEText(email_body, \"html\"))\n",
        "\n",
        "    # Send the email\n",
        "    with smtplib.SMTP(smtp_server, smtp_port) as server:\n",
        "        server.starttls()\n",
        "        server.login(email_sender, email_password)\n",
        "        server.sendmail(email_sender, email_recipient, message.as_string())\n",
        "\n",
        "    print(\"New rows inserted into BigQuery and email notification sent.\")\n",
        "else:\n",
        "    print(\"No new rows to insert.\")\n"
      ]
    },
    {
      "cell_type": "code",
      "source": [],
      "metadata": {
        "id": "OSOVQC-0AloA"
      },
      "execution_count": null,
      "outputs": []
    }
  ]
}