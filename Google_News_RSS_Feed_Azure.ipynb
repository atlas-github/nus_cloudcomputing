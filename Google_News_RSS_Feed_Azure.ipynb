{
  "nbformat": 4,
  "nbformat_minor": 0,
  "metadata": {
    "colab": {
      "provenance": [],
      "authorship_tag": "ABX9TyPK40mHNRKDvzF96II2J3XN",
      "include_colab_link": true
    },
    "kernelspec": {
      "name": "python3",
      "display_name": "Python 3"
    },
    "language_info": {
      "name": "python"
    }
  },
  "cells": [
    {
      "cell_type": "markdown",
      "metadata": {
        "id": "view-in-github",
        "colab_type": "text"
      },
      "source": [
        "<a href=\"https://colab.research.google.com/github/atlas-github/nus_cloudcomputing/blob/main/Google_News_RSS_Feed_Azure.ipynb\" target=\"_parent\"><img src=\"https://colab.research.google.com/assets/colab-badge.svg\" alt=\"Open In Colab\"/></a>"
      ]
    },
    {
      "cell_type": "code",
      "source": [
        "!pip install feedparser pymssql"
      ],
      "metadata": {
        "id": "iAY4wy8s50Kq"
      },
      "execution_count": null,
      "outputs": []
    },
    {
      "cell_type": "code",
      "source": [
        "import feedparser\n",
        "import pandas as pd\n",
        "import pymssql\n",
        "\n",
        "# RSS feed URL\n",
        "rss_url = \"https://news.google.com/rss/topics/CAAqJggKIiBDQkFTRWdvSUwyMHZNRGx1YlY4U0FtVnVHZ0pWVXlnQVAB?hl=en-US&gl=US&ceid=US:en\"\n",
        "\n",
        "# Azure SQL Database setup\n",
        "server = '### INSERT SERVER NAME ###.database.windows.net'\n",
        "database = '### INSERT DATABASE NAME ###'\n",
        "username = '### INSERT SQL SERVER USERNAME ###'  # Optional, if required by your Azure SQL\n",
        "password = '### INSERT SQL SERVER PASSWORD ###'  # Optional, if required by your Azure SQL\n",
        "\n",
        "# Create a connection to Azure SQL Database\n",
        "conn = pymssql.connect(server = server,\n",
        "                       user = username,\n",
        "                       password = password,\n",
        "                       database = database)\n",
        "\n",
        "cursor = conn.cursor()\n",
        "\n",
        "# Email setup\n",
        "smtp_server = \"smtp.gmail.com\"\n",
        "smtp_port = 587\n",
        "email_sender = \"### INSERT SENDER EMAIL ###\"\n",
        "email_password = \"### INSERT APP PASSWORD FROM GOOGLE ACCOUNT ###\"\n",
        "email_recipient = \"### INSERT RECIPIENT EMAIL ###\"\n",
        "\n",
        "# Parse the RSS feed\n",
        "feed = feedparser.parse(rss_url)\n",
        "entries = []\n",
        "for entry in feed.entries:\n",
        "    entries.append({\n",
        "        \"Title\": entry.title,\n",
        "        \"Link\": entry.link,\n",
        "        \"Published\": entry.published,\n",
        "        \"Summary\": entry.summary if \"summary\" in entry else \"\"\n",
        "    })\n",
        "\n",
        "# Create a DataFrame\n",
        "df = pd.DataFrame(entries)\n",
        "\n",
        "# Query to check for existing entries in Azure SQL\n",
        "existing_query = \"\"\"\n",
        "    SELECT Link FROM rss_feed_entries\n",
        "\"\"\"\n",
        "cursor.execute(existing_query)\n",
        "existing_links = [row[0] for row in cursor.fetchall()]\n",
        "\n",
        "# Find new rows (not in existing data)\n",
        "new_rows = df[~df[\"Link\"].isin(existing_links)]\n",
        "\n",
        "# Insert new rows into Azure SQL Database\n",
        "if not new_rows.empty:\n",
        "    for index, row in new_rows.iterrows():\n",
        "        insert_query = \"\"\"\n",
        "            INSERT INTO rss_feed_entries (Title, Link, Published, Summary)\n",
        "            VALUES (%s, %s, %s, %s)\n",
        "        \"\"\"\n",
        "        cursor.execute(insert_query, (row[\"Title\"], row[\"Link\"], row[\"Published\"], row[\"Summary\"]))\n",
        "    conn.commit()  # Commit the transaction\n",
        "\n",
        "    # Send email notification for new rows\n",
        "    html_table = new_rows.to_html(index=False, escape=False)\n",
        "    email_subject = \"New RSS Feed Entries\"\n",
        "    email_body = f\"\"\"\n",
        "    New entries have been added to the RSS feed:\n",
        "    {html_table}\n",
        "    \"\"\"\n",
        "\n",
        "    # Create the email message\n",
        "    message = MIMEMultipart()\n",
        "    message[\"From\"] = email_sender\n",
        "    message[\"To\"] = email_recipient\n",
        "    message[\"Subject\"] = email_subject\n",
        "    message.attach(MIMEText(email_body, \"html\"))\n",
        "\n",
        "    # Send the email\n",
        "    with smtplib.SMTP(smtp_server, smtp_port) as server:\n",
        "        server.starttls()\n",
        "        server.login(email_sender, email_password)\n",
        "        server.sendmail(email_sender, email_recipient, message.as_string())\n",
        "\n",
        "    print(\"New rows inserted into Azure SQL Database and email notification sent.\")\n",
        "else:\n",
        "    print(\"No new rows to insert.\")\n"
      ],
      "metadata": {
        "colab": {
          "base_uri": "https://localhost:8080/"
        },
        "id": "6oT3YM1D-po_",
        "outputId": "7e7b5695-4cf5-4793-a26c-a8b172952591"
      },
      "execution_count": null,
      "outputs": [
        {
          "output_type": "stream",
          "name": "stdout",
          "text": [
            "New rows inserted into Azure SQL Database and email notification sent.\n"
          ]
        }
      ]
    }
  ]
}